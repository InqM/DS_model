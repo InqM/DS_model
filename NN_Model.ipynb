{
 "cells": [
  {
   "cell_type": "code",
   "execution_count": 12,
   "metadata": {},
   "outputs": [],
   "source": [
    "import pandas as pd\n",
    "import numpy as np\n",
    "from sklearn.preprocessing import StandardScaler\n",
    "from sklearn.neighbors import NearestNeighbors\n",
    "import copy\n",
    "from IPython.display import display\n",
    "import seaborn as sns\n",
    "import plotly.express as px\n",
    "import plotly.graph_objects as go\n",
    "import matplotlib.pyplot as plt\n",
    "import plotly\n",
    "from ipywidgets import interact, interactive, fixed, interact_manual\n",
    "import ipywidgets as widgets"
   ]
  },
  {
   "cell_type": "code",
   "execution_count": 5,
   "metadata": {},
   "outputs": [],
   "source": [
    "#Data Imported From Kaggle Dataset\n",
    "data = pd.read_csv(\"data.csv\")\n",
    "df = data.copy()"
   ]
  },
  {
   "cell_type": "code",
   "execution_count": 6,
   "metadata": {},
   "outputs": [],
   "source": [
    "#Cleaning the Artist Column\n",
    "def FixArtist(artist):\n",
    "    artist=artist.replace(\"'\",\"\").replace(\"'\",\"\").replace('[','').replace(']','')\n",
    "    return artist\n",
    "\n",
    "df['artists'] = df['artists'].apply(FixArtist)\n",
    "data['artists'] = data['artists'].apply(FixArtist)"
   ]
  },
  {
   "cell_type": "code",
   "execution_count": 7,
   "metadata": {},
   "outputs": [],
   "source": [
    "#creating dictionary for lookup after predictions\n",
    "dictionary = df[[\"artists\", \"name\", \"key\", \"id\",\"explicit\"]]\n",
    "#Dropping columns not suited for a Standard Scaler fit which is neccesary for NearestNeighbors\n",
    "df = df.drop(['artists','id','name','release_date'], axis = 1)\n",
    "\n",
    "#Transforming dataset to standard scaler\n",
    "scaler = StandardScaler()\n",
    "df_s = scaler.fit_transform(df)"
   ]
  },
  {
   "cell_type": "code",
   "execution_count": 8,
   "metadata": {},
   "outputs": [
    {
     "data": {
      "text/plain": [
       "NearestNeighbors(algorithm='kd_tree', n_neighbors=10)"
      ]
     },
     "execution_count": 8,
     "metadata": {},
     "output_type": "execute_result"
    }
   ],
   "source": [
    "#The NN Model\n",
    "nn = NearestNeighbors(n_neighbors=10, algorithm='kd_tree')\n",
    "nn.fit(df_s)"
   ]
  },
  {
   "cell_type": "code",
   "execution_count": 9,
   "metadata": {},
   "outputs": [],
   "source": [
    "#Method for importing elsewhere\n",
    "def PredictNSimilarSongs(song_name, artist, n):\n",
    "    \n",
    "    \n",
    "    #Matches Song with the artist\n",
    "    index = 0\n",
    "    indices = []\n",
    "    \n",
    "    for i, item in enumerate(data['artists']):\n",
    "        if(item == artist):\n",
    "            indices.append(i)\n",
    "    \n",
    "    for item in indices:\n",
    "        if(data['name'][item] == song_name):\n",
    "            index = item\n",
    "    \n",
    "    #Gets Predictions with NN\n",
    "    neighbor_predictions = nn.kneighbors([df_s[index]])\n",
    "    \n",
    "    #Finds the prediction's names and who its by in the dictionary\n",
    "    list_of_predictions = neighbor_predictions[1][0].tolist()\n",
    "\n",
    "    ten_similar_tracks_title = []\n",
    "    for item in list_of_predictions:\n",
    "        track_hash = dictionary['name'].iloc[item]\n",
    "        explicit = dictionary['explicit'].iloc[item]\n",
    "        ten_similar_tracks_title.append(track_hash)\n",
    "    \n",
    "    ten_similar_tracks_artists = []\n",
    "    for item in list_of_predictions:\n",
    "        track_hash = dictionary['artists'].iloc[item]\n",
    "        ten_similar_tracks_artists.append(track_hash)\n",
    "\n",
    "    ten_suggestions = []\n",
    "    for i in range(0,n+1):\n",
    "        ten_suggestions.append(ten_similar_tracks_title[i] + ' by ' + ten_similar_tracks_artists[i])\n",
    "        \n",
    "    \n",
    "    return ten_suggestions\n"
   ]
  },
  {
   "cell_type": "code",
   "execution_count": 10,
   "metadata": {},
   "outputs": [],
   "source": [
    "def find_word(word,df,number=10):\n",
    "    df.drop_duplicates(inplace=True)\n",
    "    words=df['name'].values\n",
    "    artists=df['artists'].values\n",
    "    t=[]\n",
    "    count=0\n",
    "    if word[-1]==' ':\n",
    "        word=word[:-1]\n",
    "    for i in words:\n",
    "        if word.lower() in i.lower():\n",
    "            t.append([len(word)/len(i),count])\n",
    "        else:\n",
    "            t.append([0,count])\n",
    "        count+=1\n",
    "    t.sort(reverse=True)\n",
    "    s=[[words[t[i][1]],artists[t[i][1]].strip('][').split(', ')] for i in range(number)]   \n",
    "    songs=[words[t[i][1]] for i in range(number)]\n",
    "    artist=[artists[t[i][1]] for i in range(number)]\n",
    "    x=[]\n",
    "    for i in s:\n",
    "        l=''\n",
    "        by=''\n",
    "        for j in i[1]:\n",
    "            by+=j\n",
    "        l+=i[0]+' by '+by\n",
    "        x.append(l)\n",
    "    tup=[]\n",
    "    for i in range(number):\n",
    "        tup.append((x[i],i))\n",
    "\n",
    "    \n",
    "    return tup,songs,artist"
   ]
  },
  {
   "cell_type": "code",
   "execution_count": 69,
   "metadata": {},
   "outputs": [
    {
     "name": "stdout",
     "output_type": "stream",
     "text": [
      "Please enter The name of the song :life\n",
      "Please enter the number of recommendations you want: 9\n"
     ]
    },
    {
     "data": {
      "application/vnd.jupyter.widget-view+json": {
       "model_id": "4b2e75294bf946279d97ec2d2fe7a8c0",
       "version_major": 2,
       "version_minor": 0
      },
      "text/plain": [
       "Dropdown(description='Closest Songs To life', options=(('Life by The Walters', 0), ('LIFE by Jon Bellion', 1),…"
      ]
     },
     "metadata": {},
     "output_type": "display_data"
    }
   ],
   "source": [
    "a=input('Please enter The name of the song :')\n",
    "b=int(input('Please enter the number of recommendations you want: '))\n",
    "tup,s,ar=find_word(a,data)\n",
    "ans=widgets.Dropdown(\n",
    "    options=tup,\n",
    "    description='Closest Songs To '+a,\n",
    "    disabled=False,\n",
    ")\n",
    "display(ans)"
   ]
  },
  {
   "cell_type": "code",
   "execution_count": 70,
   "metadata": {},
   "outputs": [],
   "source": [
    "prediction = PredictNSimilarSongs(s[ans.value], ar[ans.value], 9)"
   ]
  },
  {
   "cell_type": "code",
   "execution_count": 71,
   "metadata": {},
   "outputs": [
    {
     "data": {
      "text/plain": [
       "['LIFE by Saba',\n",
       " 'Legend Has It by Run The Jewels',\n",
       " 'Single (feat.Omeretta The Great) by Killumantii, Omeretta the Great',\n",
       " 'Money by Leikeli47',\n",
       " \"What's the Move (feat. Lil Uzi Vert) by Young Thug, Lil Uzi Vert\",\n",
       " 'Gang Shit No Lame Shit by Key Glock',\n",
       " 'Like Dat by Kodak Black',\n",
       " 'Shanyah by DaBaby',\n",
       " 'Time for That by Kevin Gates',\n",
       " 'How You Feel? (Freestyle) (feat. Lil Yachty & Ski Mask The Slump God) by DJ Scheme, Danny Towers, Lil Yachty, Ski Mask The Slump God']"
      ]
     },
     "execution_count": 71,
     "metadata": {},
     "output_type": "execute_result"
    }
   ],
   "source": [
    "prediction"
   ]
  },
  {
   "cell_type": "code",
   "execution_count": null,
   "metadata": {},
   "outputs": [],
   "source": []
  }
 ],
 "metadata": {
  "kernelspec": {
   "display_name": "Python 3",
   "language": "python",
   "name": "python3"
  },
  "language_info": {
   "codemirror_mode": {
    "name": "ipython",
    "version": 3
   },
   "file_extension": ".py",
   "mimetype": "text/x-python",
   "name": "python",
   "nbconvert_exporter": "python",
   "pygments_lexer": "ipython3",
   "version": "3.8.3"
  }
 },
 "nbformat": 4,
 "nbformat_minor": 4
}
